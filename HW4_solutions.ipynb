{
 "cells": [
  {
   "cell_type": "code",
   "execution_count": 1,
   "metadata": {},
   "outputs": [],
   "source": [
    "import numpy as np\n",
    "import matplotlib.pyplot as plt\n",
    "mydpi = 120"
   ]
  },
  {
   "cell_type": "markdown",
   "metadata": {},
   "source": [
    "# Homework Assignment HWpy2\n",
    "\n",
    "Before you start, open your terminal (MacOS), anaconda prompt (Windows) and run \n",
    "\n",
    "`conda install tabulate` or `pip install tabulate` or run the cell below\n",
    "\n",
    "For problems 2,3,4, you should include markdown cells to define your assumptions and variables. Your results should be printed explicitly at the end of your code cells `print(\"Heat rate per unit length over the cylinder= %.1f W/m\" %(qp))` \n",
    "\n",
    "## Problem 1\n",
    "\n",
    "Complete the following:"
   ]
  },
  {
   "cell_type": "code",
   "execution_count": 3,
   "metadata": {},
   "outputs": [
    {
     "name": "stdout",
     "output_type": "stream",
     "text": [
      "Requirement already satisfied: tabulate in /Users/dubief/opt/anaconda3/lib/python3.9/site-packages (0.8.10)\r\n"
     ]
    }
   ],
   "source": [
    "!pip install tabulate"
   ]
  },
  {
   "cell_type": "markdown",
   "metadata": {},
   "source": [
    "The `HT_external_convection` also contains object for flow over circular cylinder (perpendicular to the flow)\n",
    "```Python\n",
    "from Libraries HT_external_convection as extconv\n",
    "mycylinder =extconv.CircularCylinder(correlation,Re,Pr,Pr_s = 0.0) \n",
    "```\n",
    "where `Re`, `Pr`, and `Pr_s` are the Reynolds number, Prandtl number of the flow and surface Prandtl numbers, respectively. Your choices of correlations are `Hilpert`, `Churchill-Bernstein` or `Zukauskas`. The first two do not use `Pr_s`, only the third one does.\n",
    "```Python\n",
    "mycylinder = extconv.CircularCylinder('Hilpert',Re,Pr)\n",
    "```\n",
    "corresponds to\n",
    "$$\n",
    "Nu_D=\\frac{...}{...}=F(...,...)\n",
    "$$\n",
    "where the coefficients are given in this table\n",
    "\n",
    "|Re|C|m|\n",
    "|---|---|---|\n",
    "|x.x--x|0.xxx|0.xxx|\n",
    "|x--xx|0.xxx|0.xxx|\n",
    "|xx--xxxx|0.xxx|0.xxx|\n",
    "|xxxx--xx,xxx|0.xxx|0.xxx|\n",
    "|xx,xxx--xxx,xxx|0.xxx|0.xx|\n",
    "\n",
    "The Hilper correlation is valid for ... and thermal properties are calculated at ...\n",
    "\n",
    "```Python\n",
    "mycylinder = extconv.CircularCylinder('Zukauskas',Re,Pr,Pr_s = Prs)\n",
    "```\n",
    "corresponds to\n",
    "$$\n",
    "Nu_D=\\frac{...}{...}=F(...,...,...)\n",
    "$$\n",
    "where the coefficients are given in this table\n",
    "\n",
    "|Re|C|m|\n",
    "|---|---|---|\n",
    "|x--xx|0.xxx|0.x|\n",
    "|xx--xxxx|0.xxx|0.x|\n",
    "|xxx--xxx,xxx|0.xxx|0.x|\n",
    "|xxx,xxx--x,xxx,xxx|0.xxx|0.x|\n",
    "\n",
    "The Zukauskas correlation is valid for ... and thermal properties are calculated at ...\n",
    "\n",
    "```Python\n",
    "mycylinder = extconv.CircularCylinder('Churchill-Bernstein',Re,Pr)\n",
    "```\n",
    "corresponds to\n",
    "$$\n",
    "Nu_D=\\frac{...}{...}=F(...,...,...)\n",
    "$$\n",
    "which is valid for ...,  and thermal properties are calculated at ...\n",
    "\n",
    "\n"
   ]
  },
  {
   "cell_type": "markdown",
   "metadata": {},
   "source": [
    "## Problem 2\n",
    "A circular cylinder of diameter $D=5\\mathrm{cm}$, with a fixed surface temperature $T_s=100\\mathrm{^\\circ C}$ is surrounded by $T_\\infty=0\\mathrm{^\\circ C}$ air at $1\\mathrm{atm}$. The goal extract a targeted amounts of heat from the cylinder using external convection. The target heat fluxes are "
   ]
  },
  {
   "cell_type": "code",
   "execution_count": null,
   "metadata": {},
   "outputs": [],
   "source": [
    "import numpy as np\n",
    "qloss = np.array([2, 5, 10,20,30],dtype='float')"
   ]
  },
  {
   "cell_type": "markdown",
   "metadata": {},
   "source": [
    "0. Draw the thermal circuit of this system"
   ]
  },
  {
   "cell_type": "code",
   "execution_count": null,
   "metadata": {},
   "outputs": [],
   "source": []
  },
  {
   "cell_type": "markdown",
   "metadata": {},
   "source": [
    "1. Plot in a log-log graph the $Nu$ for the three available correlation (Hilpert, Churchill-Bernstein,Zukauskas) using the appropriate temperatures to determine relevant thermodynamic properties. Use the range of velocity defined in the cell below ($U_\\infty\\in[0.1,50]\\mathrm{m/s})$. *Hint*: create as many object of the class 'thermo.Fluid' as the reference temperatures you need."
   ]
  },
  {
   "cell_type": "code",
   "execution_count": null,
   "metadata": {},
   "outputs": [],
   "source": [
    "import numpy as np\n",
    "import matplotlib.pyplot as plt\n",
    "from Libraries import HT_external_convection as extconv\n",
    "from Libraries import thermodynamics as thermo\n",
    "D = 0.05\n",
    "Tinf = 0.\n",
    "Ts = 100.\n",
    "Uinf = np.logspace(np.log10(0.1),np.log10(50),101)\n",
    "Tf = ...\n",
    "air_Tf = ...\n",
    "air_Tinf = ...\n",
    "air_Ts = ...\n",
    "Re_Tf = ...\n",
    "Re_Tinf = ...\n",
    "\n",
    "Nu_H = np.zeros_like(Uinf)\n",
    "Nu_CB = np.zeros_like(Uinf)\n",
    "Nu_Z = np.zeros_like(Uinf)\n",
    "for i in range(len(Uinf)):\n",
    "    cyl_H = ...\n",
    "    Nu_H[i] = cyl_H.Nu\n",
    "    cyl_CB = ...\n",
    "    Nu_CB[i] = cyl_CB.Nu\n",
    "    cyl_Z = ...\n",
    "    Nu_Z[i] = cyl_Z.Nu\n",
    "plt.figure(figsize=(4,3),dpi=mydpi)\n",
    "plt.title('$Nu$ correlations for circ. cylinders')\n",
    "plt.loglog(Re_Tf,Nu_H, label=cyl_H.correlation)\n",
    "plt.loglog(Re_Tf,Nu_CB, label=cyl_CB.correlation)\n",
    "plt.loglog(Re_Tinf,Nu_Z, label=cyl_Z.correlation)\n",
    "plt.xlabel(\"$Re$\")\n",
    "plt.ylabel(\"$Nu$\")\n",
    "plt.legend()\n",
    "plt.show()"
   ]
  },
  {
   "cell_type": "markdown",
   "metadata": {},
   "source": [
    "2. Using the Hilpert correlation, plot the heat loss for a $1\\mathrm{m}$-long pipe."
   ]
  },
  {
   "cell_type": "code",
   "execution_count": null,
   "metadata": {},
   "outputs": [],
   "source": [
    "L = 1\n",
    "q = ...\n",
    "\n",
    "plt.figure(figsize=(4,3),dpi=mydpi)\n",
    "plt.title(\"Heat loss by convection\")\n",
    "plt.loglog(Re_Tf,q)\n",
    "plt.ylabel(\"$q$\")\n",
    "plt.xlabel(\"$Re$\")\n",
    "plt.grid(True,which=\"both\")\n",
    "plt.show()"
   ]
  },
  {
   "cell_type": "markdown",
   "metadata": {},
   "source": [
    "3. Using `scipy.optimize.fsolve` find the air speeds that achieve the heat losses prescribed in the vector `qloss`.\n",
    "\n"
   ]
  },
  {
   "cell_type": "code",
   "execution_count": null,
   "metadata": {},
   "outputs": [],
   "source": [
    "from scipy.optimize import fsolve\n",
    "from tabulate import tabulate\n",
    "\n",
    "def func(U,qloss):\n",
    "    ...\n",
    "    \n",
    "    return cyl.Nu*...\n",
    "Uguess_ini = 1.\n",
    "i = 0\n",
    "Uinf_qloss = np.zeros_like(qloss)\n",
    "Re_qloss = np.zeros_like(qloss)\n",
    "for ql in qloss:\n",
    "    if i == 0: \n",
    "        Uguess = Uguess_ini\n",
    "    else:\n",
    "        Uguess = root[0]\n",
    "    root = fsolve(func,[Uguess],args=(ql))\n",
    "    Uinf_qloss[i] = root[0]\n",
    "    Re_qloss[i] = root[0]*D/air_Tf.nu\n",
    "    i += 1\n",
    "col_headers = [\"q (W)\", \"U_inf (m/s)\", \"Re\"]\n",
    "\n",
    "merged_array = np.array([qloss, Uinf_qloss, Re_qloss]).T\n",
    "\n",
    "\n",
    "table = tabulate(merged_array , col_headers, tablefmt=\"fancy_grid\", floatfmt = (\".0f\", \".2f\", \".0f\"))\n",
    "\n",
    "print(table)"
   ]
  },
  {
   "cell_type": "markdown",
   "metadata": {},
   "source": [
    "## Problem 3\n",
    "\n",
    "<img src='figures_Tube_Banks/probun_07_34.jpg' alt=\"my awesome sketch\" width=100% >\n",
    "An air duct heater consists of an aligned array of electrical heating elements in which the longitudinal and transverse pitches are $S_L=S_T= 24\\mathrm{ mm}$. There are 3 rows of elements in the ﬂow direction ($N_L=3$) and 4 elements per row ($N_T=4$). Atmospheric air with an upstream velocity of $12\\mathrm{ m/s}$ and a temperature of $25\\mathrm{^\\circ C}$ moves in cross ﬂow over the elements, which have a diameter of $12\\mathrm{mm}$, a length of $250\\mathrm{mm}$, and are maintained at a surface temperature of $350\\mathrm{^\\circ C}$.\n",
    "\n",
    "1. Determine the total heat transfer to the air and the temperature of the air leaving the duct heater.\n",
    "\n",
    "2. Determine the pressure drop across the element bank and the fan power requirement.\n",
    "\n",
    "3. Compare the average convection coefﬁcient obtained in your analysis with the value for an isolated (single) element. Explain the difference between the results.\n",
    "\n",
    "4. What effect would increasing the longitudinal and transverse pitches to 30 mm have on the exit temperature of the air, the total heat rate, and the pressure drop?\n"
   ]
  },
  {
   "cell_type": "markdown",
   "metadata": {},
   "source": [
    "## Problem 4\n",
    "\n",
    "<img src='Figures/PB4-1.png' alt=\"my awesome sketch\" width=50% ><img src='Figures/PB4-2.png' alt=\"my awesome sketch\" width=50% >\n",
    "The top surface of a heated compartment consists of very smooth (A) and highly roughened (B) portions, and the surface is placed in an atmospheric airstream. \n",
    "\n",
    "0. Draw the thermal circuit of this system\n",
    "1. In the interest of minimizing total convection heat transfer from the surface, which orientation, (1) or (2, not shown, B is the leading edge plate, A is the trailing edge plate),\n",
    "is preferred? \n",
    "2. If $T_s=100\\mathrm{^\\circ C}$,  $T_\\infty= 20\\mathrm{^\\circ C}$, and $u_\\infty=20\\mathrm{m/s}$, what is the convection heat transfer from the entire surface for the orientation minimizing convection?\n",
    "3. What is the convection heat transfer from the entire surface for the orientation maximizing convection?\n",
    "4. Calculate the value of the average heat transfer coefﬁcient when the entire plate is rotated $90^\\circ$ so that half of the leading edge consists of a very smooth portion (A) and the other half consists of a highly roughened portion (B)."
   ]
  },
  {
   "cell_type": "code",
   "execution_count": null,
   "metadata": {},
   "outputs": [],
   "source": []
  }
 ],
 "metadata": {
  "kernelspec": {
   "display_name": "Python 3 (ipykernel)",
   "language": "python",
   "name": "python3"
  },
  "language_info": {
   "codemirror_mode": {
    "name": "ipython",
    "version": 3
   },
   "file_extension": ".py",
   "mimetype": "text/x-python",
   "name": "python",
   "nbconvert_exporter": "python",
   "pygments_lexer": "ipython3",
   "version": "3.9.13"
  }
 },
 "nbformat": 4,
 "nbformat_minor": 4
}
